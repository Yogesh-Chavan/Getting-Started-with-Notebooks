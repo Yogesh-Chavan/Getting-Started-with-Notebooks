{
 "cells": [
  {
   "cell_type": "markdown",
   "metadata": {},
   "source": [
    "## Welcome to your notebook.\n"
   ]
  },
  {
   "cell_type": "markdown",
   "metadata": {},
   "source": [
    "#### Run this cell to connect to your GIS and get started:"
   ]
  },
  {
   "cell_type": "code",
   "execution_count": 87,
   "metadata": {},
   "outputs": [],
   "source": [
    "from arcgis.gis import GIS\n",
    "gis = GIS(\"home\")"
   ]
  },
  {
   "cell_type": "markdown",
   "metadata": {},
   "source": [
    "#### Now you are ready to start!"
   ]
  },
  {
   "cell_type": "code",
   "execution_count": 88,
   "metadata": {
    "scrolled": true
   },
   "outputs": [
    {
     "data": {
      "text/html": [
       "<div class=\"item_container\" style=\"height: auto; overflow: hidden; border: 1px solid #cfcfcf; border-radius: 2px; background: #f6fafa; line-height: 1.21429em; padding: 10px;\">\n",
       "                    <div class=\"item_left\" style=\"width: 210px; float: left;\">\n",
       "                       <a href='https://www.arcgis.com/home/item.html?id=0f33ebedc76e429499ec235d78638ace' target='_blank'>\n",
       "                        <img src='data:image/png;base64,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' width='200' height='133' class=\"itemThumbnail\">\n",
       "                       </a>\n",
       "                    </div>\n",
       "\n",
       "                    <div class=\"item_right\"     style=\"float: none; width: auto; overflow: hidden;\">\n",
       "                        <a href='https://www.arcgis.com/home/item.html?id=0f33ebedc76e429499ec235d78638ace' target='_blank'><b>Taluka Pune</b>\n",
       "                        </a>\n",
       "                        <br/>Data storing the Polygon geometry of all the Talukas in Pune District.<img src='https://www.arcgis.com/home/js/jsapi/esri/css/images/item_type_icons/featureshosted16.png' style=\"vertical-align:middle;\">Feature Layer Collection by YogeshC_ess\n",
       "                        <br/>Last Modified: April 29, 2020\n",
       "                        <br/>0 comments, 6 views\n",
       "                    </div>\n",
       "                </div>\n",
       "                "
      ],
      "text/plain": [
       "<Item title:\"Taluka Pune\" type:Feature Layer Collection owner:YogeshC_ess>"
      ]
     },
     "execution_count": 88,
     "metadata": {},
     "output_type": "execute_result"
    }
   ],
   "source": [
    "# Item Added From Toolbar\n",
    "# Title: Taluka Pune | Type: Feature Service | Owner: YogeshC_ess\n",
    "pune = gis.content.get(\"0f33ebedc76e429499ec235d78638ace\")\n",
    "pune"
   ]
  },
  {
   "cell_type": "code",
   "execution_count": 89,
   "metadata": {},
   "outputs": [
    {
     "data": {
      "application/vnd.jupyter.widget-view+json": {
       "model_id": "680f7d023b4c43138310600930d972b2",
       "version_major": 2,
       "version_minor": 0
      },
      "text/plain": [
       "MapView(layout=Layout(height='400px', width='100%'))"
      ]
     },
     "metadata": {},
     "output_type": "display_data"
    },
    {
     "data": {
      "text/html": [
       "<div class=\"map-static-img-preview-d66baa30-d119-4468-9972-4e1ffe2848e3\"><img src=\"\"></img></div>"
      ],
      "text/plain": [
       "<IPython.core.display.HTML object>"
      ]
     },
     "metadata": {},
     "output_type": "display_data"
    }
   ],
   "source": [
    "x=gis.map('trial')\n",
    "x.add_layer(item)\n",
    "x"
   ]
  },
  {
   "cell_type": "code",
   "execution_count": 90,
   "metadata": {},
   "outputs": [
    {
     "data": {
      "text/html": [
       "<div class=\"item_container\" style=\"height: auto; overflow: hidden; border: 1px solid #cfcfcf; border-radius: 2px; background: #f6fafa; line-height: 1.21429em; padding: 10px;\">\n",
       "                    <div class=\"item_left\" style=\"width: 210px; float: left;\">\n",
       "                       <a href='https://www.arcgis.com/home/item.html?id=4828b6372f5a48f49afb1f2291061603' target='_blank'>\n",
       "                        <img src='data:image/png;base64,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' width='200' height='133' class=\"itemThumbnail\">\n",
       "                       </a>\n",
       "                    </div>\n",
       "\n",
       "                    <div class=\"item_right\"     style=\"float: none; width: auto; overflow: hidden;\">\n",
       "                        <a href='https://www.arcgis.com/home/item.html?id=4828b6372f5a48f49afb1f2291061603' target='_blank'><b>Survey Data</b>\n",
       "                        </a>\n",
       "                        <br/><img src='https://www.arcgis.com/home/js/jsapi/esri/css/images/item_type_icons/featureshosted16.png' style=\"vertical-align:middle;\">Feature Layer Collection by YogeshC_ess\n",
       "                        <br/>Last Modified: April 29, 2020\n",
       "                        <br/>0 comments, 2 views\n",
       "                    </div>\n",
       "                </div>\n",
       "                "
      ],
      "text/plain": [
       "<Item title:\"Survey Data\" type:Feature Layer Collection owner:YogeshC_ess>"
      ]
     },
     "execution_count": 90,
     "metadata": {},
     "output_type": "execute_result"
    }
   ],
   "source": [
    "# Item Added From Toolbar\n",
    "# Title: Survey Data | Type: Feature Service | Owner: YogeshC_ess\n",
    "survey = gis.content.get(\"4828b6372f5a48f49afb1f2291061603\")\n",
    "survey"
   ]
  },
  {
   "cell_type": "code",
   "execution_count": 91,
   "metadata": {
    "scrolled": true
   },
   "outputs": [
    {
     "data": {
      "application/vnd.jupyter.widget-view+json": {
       "model_id": "d5b4c622922547e08d5674a69c883b34",
       "version_major": 2,
       "version_minor": 0
      },
      "text/plain": [
       "MapView(layout=Layout(height='400px', width='100%'))"
      ]
     },
     "metadata": {},
     "output_type": "display_data"
    },
    {
     "data": {
      "text/html": [
       "<div class=\"map-static-img-preview-4797eae2-7a69-47aa-a6e6-f0e22e715dd2\"><img src=\"\"></img></div>"
      ],
      "text/plain": [
       "<IPython.core.display.HTML object>"
      ]
     },
     "metadata": {},
     "output_type": "display_data"
    }
   ],
   "source": [
    "x=gis.map('trial')\n",
    "x.add_layer(pune)\n",
    "x.add_layer(survey)\n",
    "x"
   ]
  },
  {
   "cell_type": "code",
   "execution_count": 92,
   "metadata": {
    "scrolled": true
   },
   "outputs": [
    {
     "data": {
      "text/html": [
       "<div class=\"item_container\" style=\"height: auto; overflow: hidden; border: 1px solid #cfcfcf; border-radius: 2px; background: #f6fafa; line-height: 1.21429em; padding: 10px;\">\n",
       "                    <div class=\"item_left\" style=\"width: 210px; float: left;\">\n",
       "                       <a href='https://www.arcgis.com/home/item.html?id=d37d19931b9a4364bf8b6bf6abddc6f3' target='_blank'>\n",
       "                        <img src='data:image/png;base64,iVBORw0KGgoAAAANSUhEUgAAAMgAAACFCAYAAAAenrcsAAAHqElEQVR4Xu3de0yV9x3H8f6/v/bXkm1Jl7hkl15iNm26zZpmpmLvkrW1Xc3UUoweY2uq1cpWxrzM2SmKN2atOrUZVlCrQq1tmaCCFKVaQNhw3hDEUtTAOYCcc+Cz8xw3ir/KTzhg9TzP+5WYwPd7zj+GN4fnXJ7nLt3E2+s26KU3MnWwMN9cAb0qKjmq0rJycxx37jIHwMCF9cOHffrJiOfVcbXdXMYVAsEtkft+tiZNnKCLFy+aq7hCIBhUnZ2dWrNyuX4xaqxaWvzmOu4QCAbdtFdnK23BYgVDIXN127T4A/rxvUOVsXaLuiIR9xWBYNBVV1WZo9uu6EilJi89qOdnrFRba8Bc94pA4An+yCPIouXr9f7uD8yVFYEAFgQCWBAIYEEggAWBABYEAlgQCGBBIIAFgQAWBAJYEAhg4flA6uobFA4FzTEQ5elA/Fe+UOLrWzVh5nJzBUR1B1JQVKaZaSt67jxhwtQ5Kjv6qaqqqs0V8FUgbW1tKq862XMHeJ6n/8QCboZAAAsCASwIBLAgEMCCQAALAumD9/Yc0Np395hjeACB9MHyVeuUsW6bOfa8NasyzJHrEEgfFBcXmyPPO15RHT0R2/QFW6SusLl2DQJBTFoCrdpVcELna8+YK1chEMCCQAALAgEsCASwIBDAgkAACwIBLAgEsCAQwIJAMCAdHR3myFUIBAMyZfprOlRyLHr5ZzciEAzId777A919369VWVFurlyBQNAve3LzVHy4RAsXLox+n5mZKZ/Pp9TUVOOW7hBTIF3mAJ5w/nytkqfN0re+/T21trZGZ8Ggu0/bGlMgjjFJS6LntYU3dXX179dkU9MlfX/IfZGD+qvm6o4WUyB7Py7Ur363TOOTZ5or4IZGJzyqn95zrzm+48UUiCMY+U3Q2howx8ANhcOd+nfNKXN8x4s5EMALCASwIBDAgkAGiXP5CLc/5elFBDJIHhj1nAoLC8wx4hyBDIK58zL0z08+MsdwAQIZBBUufR8SCASwIhDAgkAACwIBLAgEsCAQwMKVgfT3swpAb1wXiN8fUPbufHMM9ElDfe11Z2pxVSA1NTWaMSdNwxIm6cGRY8w10Ku6ujr9/KHHNXtlvtpa/d1zVwXiKCg8qG078xQOhcwVYJU0Y76S5+Wove3a5+0drgvEOfpwjkEqKytVUVFhroFeOT835uGr6wJxNFyo04iEcdq5K89cAf3iykAczc3NCofde/VVfDNcFQhP7/Yf/2d2rgrEMXZsojlCL4YNG2aOYHBVIMsyNys1u0lrN+UoHLyq1LT55k1uuerqE6qvrzfHd5xTp04pNzfXHMPgqkAcTzz5lAKBgIYMf0oPPJOmjI3f3A/BktWbNGnGn3X27DlzhTjlrkB6/D1ddrxSL06eo5r/nO1xg69zTrbgvEg0UI2NjSo5fFit/hZzhTjmrkAMfTkAPVx6XGWfV5tjIMrVgdg0XWnRQ4mvasTTPr27/doJF/oSFLzFs4G0t7eruLhI+YfKNH3uX7vnif97Fsw5x1U4zNtVvM7VgTR9+YXKjh4xx9fxR44ZOq62R78+f+60kmYtVWckjLqGL/XKG4uMW8NrXBvIW8syNTX9gH4zeV7k0aItOjt9+owmvfTydbfryfkTq63tWiz//x7e5tpAtmb9Q3m7srVp+37l5u3T/aMm6u4HX9Qjkxar7LNj5s1719WpCb4UDX3sFX2wj8+ZeI1rA+nJeSQ4UPyZfCuP6pGxE821lfMYkpCQoKysLM6960GeCMTREmjXwvl/NMeRH/oOpa/4m5qvXDJX3cJBd18LHL3zTCDl5eV64slEnTxZ0z37U+pcjUleqtSttUpMSlXDha+/RaS+oVFJC3L1aVEBjyAe5JlAHPP/kq4/rMrTxqzd3bN5i1frl8+m6M3F6294gclwKKgtO/bryHFeTPQiTwXi+NnYVO3NL9aVy5cj/y6p8FCJ3tz8L70wbaHuGT1d9bXXrqPX2dlp3BNe5KlAAv4WlZaW6kjZ5/rR8Mc0NGGKFqx8T0uWr1Hm2nc05pnJSknP1uoNORo3Psm8e5+cOn1G23buNceIU54J5FhFjV5e9LHeWb9RGzLTNSqlVE9PTOneX448mox+1qdHn5savSJrKBTbpxHXbd6hEeOXRL6K7f64s3gmkLeWLFPCa7uU9PsN0e+Hj3xcQ0Ym61LjtQNz5wB8a85u5ez6cEAH4/6WZmVt26HCwkJzhTjkmUAcvlnztCIjPfp1MBRSIPDV6V0GE6/Au4enAgH6i0AAC08FUld7Rr+dktr95kXgZjwVyJWmi3p43FydOVtrroAb8lQgQH8RCGBBIIhrDQ0XtC//gDkeNASCuOacfznQeuuedCEQwIJAAAsCASwIJEY+n++6iz3CnQgkBlUnKvX37YV6YWqaig7dumdQcPsRSAxCwaAWpG/U7M3ntDRjjbmGixBIjDpDHdr5UZn2f/KhuYKLEAhgQSCABYEAFgQCWBAIYEEggAWBABYEAlgQCGBBIIAFgQAWBAJYEAhgQSCABYEAFgQCWBAIYEEggAWBABYEAlgQCGBBIIAFgQAWBAJYEAhgQSCABYEAFgQCWBAIXK2islpJKW+r9PBBc9Un/wXmYPwyFn/X4AAAAABJRU5ErkJggg==' width='200' height='133' class=\"itemThumbnail\">\n",
       "                       </a>\n",
       "                    </div>\n",
       "\n",
       "                    <div class=\"item_right\"     style=\"float: none; width: auto; overflow: hidden;\">\n",
       "                        <a href='https://www.arcgis.com/home/item.html?id=d37d19931b9a4364bf8b6bf6abddc6f3' target='_blank'><b>Enriched_Data_5_Min_Drive_Time</b>\n",
       "                        </a>\n",
       "                        <br/><img src='https://www.arcgis.com/home/js/jsapi/esri/css/images/item_type_icons/featureshosted16.png' style=\"vertical-align:middle;\">Feature Layer Collection by YogeshC_ess\n",
       "                        <br/>Last Modified: April 29, 2020\n",
       "                        <br/>0 comments, 2 views\n",
       "                    </div>\n",
       "                </div>\n",
       "                "
      ],
      "text/plain": [
       "<Item title:\"Enriched_Data_5_Min_Drive_Time\" type:Feature Layer Collection owner:YogeshC_ess>"
      ]
     },
     "execution_count": 92,
     "metadata": {},
     "output_type": "execute_result"
    }
   ],
   "source": [
    "# Item Added From Toolbar\n",
    "# Title: Enriched_Data_5_Min_Drive_Time | Type: Feature Service | Owner: YogeshC_ess\n",
    "enrich5 = gis.content.get(\"d37d19931b9a4364bf8b6bf6abddc6f3\")\n",
    "enrich5"
   ]
  },
  {
   "cell_type": "code",
   "execution_count": 93,
   "metadata": {},
   "outputs": [
    {
     "data": {
      "application/vnd.jupyter.widget-view+json": {
       "model_id": "f431f5af692743c6bec3a5131e6bdb5d",
       "version_major": 2,
       "version_minor": 0
      },
      "text/plain": [
       "MapView(layout=Layout(height='400px', width='100%'))"
      ]
     },
     "metadata": {},
     "output_type": "display_data"
    },
    {
     "data": {
      "text/html": [
       "<div class=\"map-static-img-preview-e59322f2-fa6b-4232-b3a9-a295f23fd85b\"><img src=\"\"></img></div>"
      ],
      "text/plain": [
       "<IPython.core.display.HTML object>"
      ]
     },
     "metadata": {},
     "output_type": "display_data"
    }
   ],
   "source": [
    "enrich=gis.map('trial')\n",
    "enrich.add_layer(enrich5)\n",
    "enrich"
   ]
  },
  {
   "cell_type": "code",
   "execution_count": 94,
   "metadata": {},
   "outputs": [
    {
     "data": {
      "text/html": [
       "<div class=\"item_container\" style=\"height: auto; overflow: hidden; border: 1px solid #cfcfcf; border-radius: 2px; background: #f6fafa; line-height: 1.21429em; padding: 10px;\">\n",
       "                    <div class=\"item_left\" style=\"width: 210px; float: left;\">\n",
       "                       <a href='https://www.arcgis.com/home/item.html?id=7ab5933d801d40cc870e2bea032d0199' target='_blank'>\n",
       "                        <img src='data:image/png;base64,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' width='200' height='133' class=\"itemThumbnail\">\n",
       "                       </a>\n",
       "                    </div>\n",
       "\n",
       "                    <div class=\"item_right\"     style=\"float: none; width: auto; overflow: hidden;\">\n",
       "                        <a href='https://www.arcgis.com/home/item.html?id=7ab5933d801d40cc870e2bea032d0199' target='_blank'><b>Enriched_Drive_Time_10_min</b>\n",
       "                        </a>\n",
       "                        <br/><img src='https://www.arcgis.com/home/js/jsapi/esri/css/images/item_type_icons/featureshosted16.png' style=\"vertical-align:middle;\">Feature Layer Collection by YogeshC_ess\n",
       "                        <br/>Last Modified: April 29, 2020\n",
       "                        <br/>0 comments, 2 views\n",
       "                    </div>\n",
       "                </div>\n",
       "                "
      ],
      "text/plain": [
       "<Item title:\"Enriched_Drive_Time_10_min\" type:Feature Layer Collection owner:YogeshC_ess>"
      ]
     },
     "execution_count": 94,
     "metadata": {},
     "output_type": "execute_result"
    }
   ],
   "source": [
    "# Item Added From Toolbar\n",
    "# Title: Enriched_Drive_Time_10_min | Type: Feature Service | Owner: YogeshC_ess\n",
    "enrich10 = gis.content.get(\"7ab5933d801d40cc870e2bea032d0199\")\n",
    "enrich10"
   ]
  },
  {
   "cell_type": "code",
   "execution_count": 95,
   "metadata": {},
   "outputs": [
    {
     "data": {
      "application/vnd.jupyter.widget-view+json": {
       "model_id": "388a8d411d70416b9646b7a76c3afa9f",
       "version_major": 2,
       "version_minor": 0
      },
      "text/plain": [
       "MapView(layout=Layout(height='400px', width='100%'))"
      ]
     },
     "metadata": {},
     "output_type": "display_data"
    },
    {
     "data": {
      "text/html": [
       "<div class=\"map-static-img-preview-f39bda5c-497e-489b-97f4-2dcd1f44fa54\"><img src=\"\"></img></div>"
      ],
      "text/plain": [
       "<IPython.core.display.HTML object>"
      ]
     },
     "metadata": {},
     "output_type": "display_data"
    }
   ],
   "source": [
    "enrich2=gis.map('trial')\n",
    "enrich2.add_layer(enrich10)\n",
    "enrich2"
   ]
  },
  {
   "cell_type": "code",
   "execution_count": 96,
   "metadata": {},
   "outputs": [],
   "source": [
    "from arcgis import features\n",
    "y=features.manage_data.overlay_layers(pune,survey)"
   ]
  },
  {
   "cell_type": "code",
   "execution_count": 97,
   "metadata": {},
   "outputs": [
    {
     "data": {
      "application/vnd.jupyter.widget-view+json": {
       "model_id": "9d349cd205ed4bcab855c9d2e04f2a03",
       "version_major": 2,
       "version_minor": 0
      },
      "text/plain": [
       "MapView(layout=Layout(height='400px', width='100%'))"
      ]
     },
     "metadata": {},
     "output_type": "display_data"
    },
    {
     "data": {
      "text/html": [
       "<div class=\"map-static-img-preview-ee2b3011-2ecd-46f4-bcc4-8fd8e17549c1\"><img src=\"\"></img></div>"
      ],
      "text/plain": [
       "<IPython.core.display.HTML object>"
      ]
     },
     "metadata": {},
     "output_type": "display_data"
    }
   ],
   "source": [
    "z=gis.map('trial')\n",
    "z.add_layer(pune)\n",
    "z.add_layer(survey)\n",
    "z.add_layer(enrich5)\n",
    "z.add_layer(enrich10)\n",
    "z"
   ]
  }
 ],
 "metadata": {
  "esriNotebookRuntime": {
   "notebookRuntimeName": "ArcGIS Notebook Python 3 Standard",
   "notebookRuntimeVersion": "3.0"
  },
  "kernelspec": {
   "display_name": "Python 3",
   "language": "python",
   "name": "python3"
  },
  "language_info": {
   "codemirror_mode": {
    "name": "ipython",
    "version": 3
   },
   "file_extension": ".py",
   "mimetype": "text/x-python",
   "name": "python",
   "nbconvert_exporter": "python",
   "pygments_lexer": "ipython3",
   "version": "3.6.9"
  }
 },
 "nbformat": 4,
 "nbformat_minor": 2
}
